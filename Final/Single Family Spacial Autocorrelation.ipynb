{
 "cells": [
  {
   "cell_type": "markdown",
   "id": "759cada8-b331-4105-955d-ab63b506461a",
   "metadata": {
    "tags": []
   },
   "source": [
    "# Single Family Parcels in the City of Los Angeles\n"
   ]
  },
  {
   "cell_type": "markdown",
   "id": "cd91a691-ad9c-439b-b181-24bc8ff55e1a",
   "metadata": {},
   "source": [
    "For our group project, my team is researching the potential impact that SB8, SB9, and SB10 can make on the supply of new housing in the City of Los Angeles. One of our primary data sources will highlight existing single-famiy zoning conditions in the City of Los Angeles. This data source will highlight areas in which ADUs and smallplexes are permitted to be constructed. The zoning information for the City of Los Angeles can be found [here](https://geohub.lacity.org/datasets/zoning/explore?location=34.055956%2C-118.234564%2C12.90). \n",
    "\n",
    "Thus, in this notebook,we will be filtering the zoning information of the City of Los Angeles and running a spatial autocorrelation analysis to understand which neighborhoods in Los Angeles have the highest percentage/concentration of single family zones. We will use the LA Times neighborhood boundary as our location index. "
   ]
  },
  {
   "cell_type": "markdown",
   "id": "1238ebb2-2c35-4c3e-b31a-b484e12ba942",
   "metadata": {},
   "source": [
    "## 1. Importing Data"
   ]
  },
  {
   "cell_type": "code",
   "execution_count": 1,
   "id": "7721e21d-4fe6-434f-90cc-7bf570bb69dd",
   "metadata": {},
   "outputs": [
    {
     "name": "stderr",
     "output_type": "stream",
     "text": [
      "/opt/conda/lib/python3.9/site-packages/geopandas/_compat.py:106: UserWarning: The Shapely GEOS version (3.9.1-CAPI-1.14.2) is incompatible with the GEOS version PyGEOS was compiled with (3.10.1-CAPI-1.16.0). Conversions between both will be slow.\n",
      "  warnings.warn(\n"
     ]
    }
   ],
   "source": [
    "# to read and wrangle data\n",
    "import pandas as pd\n",
    "\n",
    "# to import data from LA Data portal\n",
    "from sodapy import Socrata\n",
    "\n",
    "# to create spatial data\n",
    "import geopandas as gpd\n",
    "\n",
    "# for basemaps\n",
    "import contextily as ctx\n",
    "\n",
    "# For spatial statistics\n",
    "import esda\n",
    "from esda.moran import Moran, Moran_Local\n",
    "\n",
    "import splot\n",
    "from splot.esda import moran_scatterplot, plot_moran, lisa_cluster,plot_moran_simulation\n",
    "\n",
    "import libpysal as lps\n",
    "\n",
    "# Graphics\n",
    "import matplotlib.pyplot as plt\n",
    "import plotly.express as px"
   ]
  },
  {
   "cell_type": "code",
   "execution_count": 4,
   "id": "87d0fd4c-1ffe-4458-bd7a-d14bacaf3d9a",
   "metadata": {},
   "outputs": [
    {
     "ename": "DriverError",
     "evalue": "data/LA_Zoning.json: No such file or directory",
     "output_type": "error",
     "traceback": [
      "\u001b[0;31m---------------------------------------------------------------------------\u001b[0m",
      "\u001b[0;31mCPLE_OpenFailedError\u001b[0m                      Traceback (most recent call last)",
      "\u001b[0;32mfiona/_shim.pyx\u001b[0m in \u001b[0;36mfiona._shim.gdal_open_vector\u001b[0;34m()\u001b[0m\n",
      "\u001b[0;32mfiona/_err.pyx\u001b[0m in \u001b[0;36mfiona._err.exc_wrap_pointer\u001b[0;34m()\u001b[0m\n",
      "\u001b[0;31mCPLE_OpenFailedError\u001b[0m: data/LA_Zoning.json: No such file or directory",
      "\nDuring handling of the above exception, another exception occurred:\n",
      "\u001b[0;31mDriverError\u001b[0m                               Traceback (most recent call last)",
      "\u001b[0;32m/tmp/ipykernel_1850/1715775683.py\u001b[0m in \u001b[0;36m<module>\u001b[0;34m\u001b[0m\n\u001b[1;32m      1\u001b[0m \u001b[0;31m#lets import our data\u001b[0m\u001b[0;34m\u001b[0m\u001b[0;34m\u001b[0m\u001b[0;34m\u001b[0m\u001b[0m\n\u001b[0;32m----> 2\u001b[0;31m \u001b[0mgdf\u001b[0m \u001b[0;34m=\u001b[0m \u001b[0mgpd\u001b[0m\u001b[0;34m.\u001b[0m\u001b[0mread_file\u001b[0m\u001b[0;34m(\u001b[0m\u001b[0;34m'data/LA_Zoning.json'\u001b[0m\u001b[0;34m)\u001b[0m\u001b[0;34m\u001b[0m\u001b[0;34m\u001b[0m\u001b[0m\n\u001b[0m",
      "\u001b[0;32m/opt/conda/lib/python3.9/site-packages/geopandas/io/file.py\u001b[0m in \u001b[0;36m_read_file\u001b[0;34m(filename, bbox, mask, rows, **kwargs)\u001b[0m\n\u001b[1;32m    158\u001b[0m \u001b[0;34m\u001b[0m\u001b[0m\n\u001b[1;32m    159\u001b[0m     \u001b[0;32mwith\u001b[0m \u001b[0mfiona_env\u001b[0m\u001b[0;34m(\u001b[0m\u001b[0;34m)\u001b[0m\u001b[0;34m:\u001b[0m\u001b[0;34m\u001b[0m\u001b[0;34m\u001b[0m\u001b[0m\n\u001b[0;32m--> 160\u001b[0;31m         \u001b[0;32mwith\u001b[0m \u001b[0mreader\u001b[0m\u001b[0;34m(\u001b[0m\u001b[0mpath_or_bytes\u001b[0m\u001b[0;34m,\u001b[0m \u001b[0;34m**\u001b[0m\u001b[0mkwargs\u001b[0m\u001b[0;34m)\u001b[0m \u001b[0;32mas\u001b[0m \u001b[0mfeatures\u001b[0m\u001b[0;34m:\u001b[0m\u001b[0;34m\u001b[0m\u001b[0;34m\u001b[0m\u001b[0m\n\u001b[0m\u001b[1;32m    161\u001b[0m \u001b[0;34m\u001b[0m\u001b[0m\n\u001b[1;32m    162\u001b[0m             \u001b[0;31m# In a future Fiona release the crs attribute of features will\u001b[0m\u001b[0;34m\u001b[0m\u001b[0;34m\u001b[0m\u001b[0;34m\u001b[0m\u001b[0m\n",
      "\u001b[0;32m/opt/conda/lib/python3.9/site-packages/fiona/env.py\u001b[0m in \u001b[0;36mwrapper\u001b[0;34m(*args, **kwargs)\u001b[0m\n\u001b[1;32m    406\u001b[0m     \u001b[0;32mdef\u001b[0m \u001b[0mwrapper\u001b[0m\u001b[0;34m(\u001b[0m\u001b[0;34m*\u001b[0m\u001b[0margs\u001b[0m\u001b[0;34m,\u001b[0m \u001b[0;34m**\u001b[0m\u001b[0mkwargs\u001b[0m\u001b[0;34m)\u001b[0m\u001b[0;34m:\u001b[0m\u001b[0;34m\u001b[0m\u001b[0;34m\u001b[0m\u001b[0m\n\u001b[1;32m    407\u001b[0m         \u001b[0;32mif\u001b[0m \u001b[0mlocal\u001b[0m\u001b[0;34m.\u001b[0m\u001b[0m_env\u001b[0m\u001b[0;34m:\u001b[0m\u001b[0;34m\u001b[0m\u001b[0;34m\u001b[0m\u001b[0m\n\u001b[0;32m--> 408\u001b[0;31m             \u001b[0;32mreturn\u001b[0m \u001b[0mf\u001b[0m\u001b[0;34m(\u001b[0m\u001b[0;34m*\u001b[0m\u001b[0margs\u001b[0m\u001b[0;34m,\u001b[0m \u001b[0;34m**\u001b[0m\u001b[0mkwargs\u001b[0m\u001b[0;34m)\u001b[0m\u001b[0;34m\u001b[0m\u001b[0;34m\u001b[0m\u001b[0m\n\u001b[0m\u001b[1;32m    409\u001b[0m         \u001b[0;32melse\u001b[0m\u001b[0;34m:\u001b[0m\u001b[0;34m\u001b[0m\u001b[0;34m\u001b[0m\u001b[0m\n\u001b[1;32m    410\u001b[0m             \u001b[0;32mif\u001b[0m \u001b[0misinstance\u001b[0m\u001b[0;34m(\u001b[0m\u001b[0margs\u001b[0m\u001b[0;34m[\u001b[0m\u001b[0;36m0\u001b[0m\u001b[0;34m]\u001b[0m\u001b[0;34m,\u001b[0m \u001b[0mstr\u001b[0m\u001b[0;34m)\u001b[0m\u001b[0;34m:\u001b[0m\u001b[0;34m\u001b[0m\u001b[0;34m\u001b[0m\u001b[0m\n",
      "\u001b[0;32m/opt/conda/lib/python3.9/site-packages/fiona/__init__.py\u001b[0m in \u001b[0;36mopen\u001b[0;34m(fp, mode, driver, schema, crs, encoding, layer, vfs, enabled_drivers, crs_wkt, **kwargs)\u001b[0m\n\u001b[1;32m    254\u001b[0m \u001b[0;34m\u001b[0m\u001b[0m\n\u001b[1;32m    255\u001b[0m         \u001b[0;32mif\u001b[0m \u001b[0mmode\u001b[0m \u001b[0;32min\u001b[0m \u001b[0;34m(\u001b[0m\u001b[0;34m'a'\u001b[0m\u001b[0;34m,\u001b[0m \u001b[0;34m'r'\u001b[0m\u001b[0;34m)\u001b[0m\u001b[0;34m:\u001b[0m\u001b[0;34m\u001b[0m\u001b[0;34m\u001b[0m\u001b[0m\n\u001b[0;32m--> 256\u001b[0;31m             c = Collection(path, mode, driver=driver, encoding=encoding,\n\u001b[0m\u001b[1;32m    257\u001b[0m                            layer=layer, enabled_drivers=enabled_drivers, **kwargs)\n\u001b[1;32m    258\u001b[0m         \u001b[0;32melif\u001b[0m \u001b[0mmode\u001b[0m \u001b[0;34m==\u001b[0m \u001b[0;34m'w'\u001b[0m\u001b[0;34m:\u001b[0m\u001b[0;34m\u001b[0m\u001b[0;34m\u001b[0m\u001b[0m\n",
      "\u001b[0;32m/opt/conda/lib/python3.9/site-packages/fiona/collection.py\u001b[0m in \u001b[0;36m__init__\u001b[0;34m(self, path, mode, driver, schema, crs, encoding, layer, vsi, archive, enabled_drivers, crs_wkt, ignore_fields, ignore_geometry, **kwargs)\u001b[0m\n\u001b[1;32m    160\u001b[0m             \u001b[0;32mif\u001b[0m \u001b[0mself\u001b[0m\u001b[0;34m.\u001b[0m\u001b[0mmode\u001b[0m \u001b[0;34m==\u001b[0m \u001b[0;34m'r'\u001b[0m\u001b[0;34m:\u001b[0m\u001b[0;34m\u001b[0m\u001b[0;34m\u001b[0m\u001b[0m\n\u001b[1;32m    161\u001b[0m                 \u001b[0mself\u001b[0m\u001b[0;34m.\u001b[0m\u001b[0msession\u001b[0m \u001b[0;34m=\u001b[0m \u001b[0mSession\u001b[0m\u001b[0;34m(\u001b[0m\u001b[0;34m)\u001b[0m\u001b[0;34m\u001b[0m\u001b[0;34m\u001b[0m\u001b[0m\n\u001b[0;32m--> 162\u001b[0;31m                 \u001b[0mself\u001b[0m\u001b[0;34m.\u001b[0m\u001b[0msession\u001b[0m\u001b[0;34m.\u001b[0m\u001b[0mstart\u001b[0m\u001b[0;34m(\u001b[0m\u001b[0mself\u001b[0m\u001b[0;34m,\u001b[0m \u001b[0;34m**\u001b[0m\u001b[0mkwargs\u001b[0m\u001b[0;34m)\u001b[0m\u001b[0;34m\u001b[0m\u001b[0;34m\u001b[0m\u001b[0m\n\u001b[0m\u001b[1;32m    163\u001b[0m             \u001b[0;32melif\u001b[0m \u001b[0mself\u001b[0m\u001b[0;34m.\u001b[0m\u001b[0mmode\u001b[0m \u001b[0;32min\u001b[0m \u001b[0;34m(\u001b[0m\u001b[0;34m'a'\u001b[0m\u001b[0;34m,\u001b[0m \u001b[0;34m'w'\u001b[0m\u001b[0;34m)\u001b[0m\u001b[0;34m:\u001b[0m\u001b[0;34m\u001b[0m\u001b[0;34m\u001b[0m\u001b[0m\n\u001b[1;32m    164\u001b[0m                 \u001b[0mself\u001b[0m\u001b[0;34m.\u001b[0m\u001b[0msession\u001b[0m \u001b[0;34m=\u001b[0m \u001b[0mWritingSession\u001b[0m\u001b[0;34m(\u001b[0m\u001b[0;34m)\u001b[0m\u001b[0;34m\u001b[0m\u001b[0;34m\u001b[0m\u001b[0m\n",
      "\u001b[0;32mfiona/ogrext.pyx\u001b[0m in \u001b[0;36mfiona.ogrext.Session.start\u001b[0;34m()\u001b[0m\n",
      "\u001b[0;32mfiona/_shim.pyx\u001b[0m in \u001b[0;36mfiona._shim.gdal_open_vector\u001b[0;34m()\u001b[0m\n",
      "\u001b[0;31mDriverError\u001b[0m: data/LA_Zoning.json: No such file or directory"
     ]
    }
   ],
   "source": [
    "#lets import our data\n",
    "gdf = gpd.read_file('data/LA_Zoning.json')"
   ]
  },
  {
   "cell_type": "markdown",
   "id": "feeb9159-bbb6-48b2-b601-29c475102920",
   "metadata": {
    "tags": []
   },
   "source": [
    "## 2. Preliminary Exploration\n",
    "\n",
    "I want to get an idea of what my data looks like. We will look at shape to see the number of rows and columns available to us, type to make sure mapshaper did not convert our geopanda file into something else, and head to get a better look at what data is available to us."
   ]
  },
  {
   "cell_type": "code",
   "execution_count": null,
   "id": "4a71678b-15e8-4626-8a12-5631297c8be6",
   "metadata": {},
   "outputs": [],
   "source": [
    "#number of rows and columns \n",
    "gdf.shape"
   ]
  },
  {
   "cell_type": "markdown",
   "id": "186f4790-5033-452e-8b50-23c0a284a6e8",
   "metadata": {},
   "source": [
    "We have 58663 rows and 7 columms. "
   ]
  },
  {
   "cell_type": "code",
   "execution_count": null,
   "id": "3e69aba6-5f89-4fd5-bb17-0acf18e48e95",
   "metadata": {},
   "outputs": [],
   "source": [
    "# double checking to make sure mapshaper did not change the data type\n",
    "type(gdf)"
   ]
  },
  {
   "cell_type": "markdown",
   "id": "1be833b2-cf1d-4ed4-98f8-0a5ba92aee84",
   "metadata": {},
   "source": [
    "Geopandas! We're good to go. "
   ]
  },
  {
   "cell_type": "code",
   "execution_count": null,
   "id": "b3acd5ed-d764-4f5a-9d93-5f83b54b454e",
   "metadata": {},
   "outputs": [],
   "source": [
    "# what does my data table look like?\n",
    "gdf.head()"
   ]
  },
  {
   "cell_type": "markdown",
   "id": "4347a9e1-b953-4c34-8d90-72d2e5155393",
   "metadata": {},
   "source": [
    "Okay it looks like we have an object ID column followed by three different categorization categories, two shape/float columns, and a geometry/location column. "
   ]
  },
  {
   "cell_type": "code",
   "execution_count": null,
   "id": "c1225f0d-f816-416a-9a22-543afae7244b",
   "metadata": {},
   "outputs": [],
   "source": [
    "# here is a summary of the information we just looked at\n",
    "gdf.info()"
   ]
  },
  {
   "cell_type": "markdown",
   "id": "585006c6-ccf3-416e-9047-987bb256f206",
   "metadata": {},
   "source": [
    "Now that we know what our data looks like, we can start analyzing our data"
   ]
  },
  {
   "cell_type": "markdown",
   "id": "61f8bdd3-0393-4276-a787-fcbb7a78079c",
   "metadata": {
    "tags": []
   },
   "source": [
    "## 3. Data Values"
   ]
  },
  {
   "cell_type": "markdown",
   "id": "f626f868-27ae-4daa-94c4-b6c5863a4f27",
   "metadata": {},
   "source": [
    "I want to look at the value options/counts in our object columns."
   ]
  },
  {
   "cell_type": "markdown",
   "id": "7bc157d5-6055-4171-8edb-f77cd10d78fa",
   "metadata": {},
   "source": [
    "### Zoning Summary "
   ]
  },
  {
   "cell_type": "code",
   "execution_count": null,
   "id": "900d8825-d161-4e2c-8c81-7d350f976a63",
   "metadata": {},
   "outputs": [],
   "source": [
    "gdf['ZONE_SMRY'].value_counts()"
   ]
  },
  {
   "cell_type": "markdown",
   "id": "82d4c9ac-98ca-4de4-aac7-f346d049e216",
   "metadata": {},
   "source": [
    "Okay, so this column let's me know what land use type each zone has. I know that I want to look at the residential zones, so this could be useful."
   ]
  },
  {
   "cell_type": "markdown",
   "id": "5dfef405-3ce4-4d1c-9df4-3647312dda8c",
   "metadata": {},
   "source": [
    "### Zone Class\n",
    "\n",
    "In the LA, the zone class is defined as: *the types of uses that are permitted on a property, including regulations related to building setbacks and minimum lot size requirements.* Let's take a look at the zone classes in this data set."
   ]
  },
  {
   "cell_type": "code",
   "execution_count": null,
   "id": "ff2ecae0-5afe-44d7-8075-ffd7318b243c",
   "metadata": {},
   "outputs": [],
   "source": [
    "gdf['ZONE_CLASS'].value_counts()"
   ]
  },
  {
   "cell_type": "markdown",
   "id": "b07823ec-5ce4-4e5c-93c8-b395d0d3d312",
   "metadata": {},
   "source": [
    "Now this column tells me the actual zoning classification of the parcel. Downside, there are 111 unique values in this column. Upside, I only need the single family zone classes, so I won't really need to look into all 111 unique classifications. However, I might want to look at all the different classifications within the residential land use parcels."
   ]
  },
  {
   "cell_type": "markdown",
   "id": "1127338f-82a1-4a40-b3d3-4332a7d9cf9c",
   "metadata": {
    "jp-MarkdownHeadingCollapsed": true,
    "tags": []
   },
   "source": [
    "### Zoning Code\n",
    "\n",
    "By looking at the data table generated above, I can tell that the `ZONE_CMPLT` is giving us the complete zoning code for zone. The complete code gives us extra information like how tall a building on a property can be or if the parcel fall in a planning overlay districts. Let's take a look at how many unique values we have. "
   ]
  },
  {
   "cell_type": "code",
   "execution_count": null,
   "id": "20f08d15-6d47-4fa8-b68d-cde2454d9e8f",
   "metadata": {},
   "outputs": [],
   "source": [
    "gdf['ZONE_CMPLT'].value_counts()"
   ]
  },
  {
   "cell_type": "markdown",
   "id": "2885bba3-f439-45f1-a3cd-a7742b7a5acd",
   "metadata": {},
   "source": [
    "There are 1941 unique values which is a lot. For the purposes of our research, we don't really need to know the entire zoning code of each parcel. All we need to know is the actual zone class. Thus, I can somewhat ignore this column. I won't delete it just yet because I may find use for it in the future.  "
   ]
  },
  {
   "cell_type": "markdown",
   "id": "be61050c-238c-479c-a164-778032c7f498",
   "metadata": {
    "tags": []
   },
   "source": [
    "## 4. Filtering Data"
   ]
  },
  {
   "cell_type": "markdown",
   "id": "0307dccb-74f5-432c-8b1c-9f8cf5606a87",
   "metadata": {},
   "source": [
    "### Residential Land Use "
   ]
  },
  {
   "cell_type": "markdown",
   "id": "49bff8c5-0656-42bc-9a0a-8ff7a71d1e4e",
   "metadata": {},
   "source": [
    "I want to start off by filtering for the residential land use parcels only. This will help me trim the number of zone classes I can use."
   ]
  },
  {
   "cell_type": "code",
   "execution_count": null,
   "id": "60fe0c4a-6e57-4795-9629-ffb704a23a8b",
   "metadata": {},
   "outputs": [],
   "source": [
    "gdf.query(\"ZONE_SMRY == 'RESIDENTIAL'\")"
   ]
  },
  {
   "cell_type": "markdown",
   "id": "5cbf0819-dc6f-45b3-9ec8-f21a57357f85",
   "metadata": {},
   "source": [
    "Now we have all the residential zones. This reduced our dataset from 58663 to 36534 rows. \n",
    "\n",
    "Let's define this query as *residential*"
   ]
  },
  {
   "cell_type": "code",
   "execution_count": null,
   "id": "01ac68f1-8d62-4594-87be-2aec200ca63e",
   "metadata": {},
   "outputs": [],
   "source": [
    "residential = gdf.query(\"ZONE_SMRY == 'RESIDENTIAL'\").copy()\n",
    "residential"
   ]
  },
  {
   "cell_type": "markdown",
   "id": "ba240bdf-8a3b-450f-b97c-ca3fc17d940d",
   "metadata": {},
   "source": [
    "Now that I have filtered for residential land use, I can take a look at the residential zone classes to find the ones that apply to single family residential lots. "
   ]
  },
  {
   "cell_type": "code",
   "execution_count": null,
   "id": "43190ac4-03b9-4135-84a4-0a6a62823caa",
   "metadata": {},
   "outputs": [],
   "source": [
    "residential['ZONE_CLASS'].value_counts()"
   ]
  },
  {
   "cell_type": "markdown",
   "id": "2a89aad9-c588-4dc5-8c03-955a54443b7c",
   "metadata": {},
   "source": [
    "Now I can see exactly what the different zone class options for residntial land uses are. The single family zone classifications with the sufficient minimum rear yard setback requirement to build an ADU are: R1, RS, RU, R1V1, R1V2, RIV3, R1P, R1R3, R1H1, R1P, RW1, RE9, RE11, RE15, RE20, RE40. ([source](https://planning.lacity.org/odocument/eadcb225-a16b-4ce6-bc94-c915408c2b04/Zoning_Code_Summary.pdf)). I double checked our zone class values listed above to make sure the the codes match. They do! Thus, I want to filter my data for those parcels.\n"
   ]
  },
  {
   "cell_type": "markdown",
   "id": "683bacdb-935e-4252-8be8-05685088a3e1",
   "metadata": {},
   "source": [
    "### Filtering for Single Family Zones"
   ]
  },
  {
   "cell_type": "code",
   "execution_count": null,
   "id": "cd0af813-7e4a-472e-98d8-ffbc992b7824",
   "metadata": {},
   "outputs": [],
   "source": [
    "# I want to define a list of my filtered categories\n",
    "filter_list = ['R1', 'RS', 'RU', 'R1V1', 'R1V2', 'RIV3', 'R1P', 'R1R3', 'R1H1', 'RW1', 'RE9', 'RE11', 'RE15', 'RE20', 'RE40']"
   ]
  },
  {
   "cell_type": "code",
   "execution_count": null,
   "id": "2f1954b0-c9f1-4870-9e45-01263dee68c9",
   "metadata": {},
   "outputs": [],
   "source": [
    "#Now I filter my data for single family residential zones using my filtered zone classes.\n",
    "gdf[gdf.ZONE_CLASS.isin(filter_list)]"
   ]
  },
  {
   "cell_type": "markdown",
   "id": "a5348c80-130b-45d2-8aa3-42e9d1cae251",
   "metadata": {},
   "source": [
    "We now have 19,843 rows which means we have 19,843 single family zones. However, each of these zones actually has multiple parcels on them. Unfortunately, this data does not give us the count of parcels within each zone. We will look into the parcel data for the final.\n",
    "\n",
    "I'm going to define this list so that we can easily analyze and visualize only our single family zones."
   ]
  },
  {
   "cell_type": "code",
   "execution_count": null,
   "id": "a18844ab-40ba-4e4b-b5ec-f4d8a2eb5ee1",
   "metadata": {},
   "outputs": [],
   "source": [
    "#Define this list\n",
    "single_family = gdf[gdf.ZONE_CLASS.isin(filter_list)].copy()\n",
    "single_family"
   ]
  },
  {
   "cell_type": "code",
   "execution_count": null,
   "id": "3f45e9ae-9326-419c-aeb3-905277392000",
   "metadata": {},
   "outputs": [],
   "source": [
    "# Let's check distribution \n",
    "single_family['ZONE_CLASS'].value_counts()"
   ]
  },
  {
   "cell_type": "markdown",
   "id": "2da3234e-4e9f-44e9-a52a-87d1053b20f0",
   "metadata": {},
   "source": [
    "Here we can see the number of zones we have with each zone class. It's interesting to see the type of single family zoning that is the most and the least prominant. We see that R1 and RS zones are our most prominant zones. R1 is known as traditional single family zoning, so it makes sense that R1 zones make up the majority of our data. RS is our suburban single family zoning. Historically, LA suburbs are known to have a higher rate of single family zoning than urban neighborhood, so again it makes sense that RS zones would be the second most prominant. Now our least prominant zone class is RU. RU is single family urban zones. We know that single family zoning is not very prominant. However, we did not expect that there would only be 2 RU zones in the entire city. "
   ]
  },
  {
   "cell_type": "markdown",
   "id": "109cfda1-83dc-457a-9534-ce4845f53afc",
   "metadata": {
    "tags": []
   },
   "source": [
    "## 6. Mapping our Single Family Zones"
   ]
  },
  {
   "cell_type": "markdown",
   "id": "e3ff3bf2-5ea2-477b-b6db-46c7a92afd0b",
   "metadata": {},
   "source": [
    "Now we will map our data so that we can actually visualize the distribution of single family zoning throughout the city. It will be interesting to see which areas have a lot of single family zoning and which areas do not. \n",
    "\n",
    "We plot our data on a web basemap; however, before adding web map tiles to these plots, I need to ensure the coordinate reference systems (CRS) of the tiles and the data match. Web map tiles are typically provided in Web Mercator (EPSG 3857), so let us first check what CRS we are in.\n",
    "\n",
    "Let's start with a map of all our single family zones."
   ]
  },
  {
   "cell_type": "code",
   "execution_count": null,
   "id": "c54e26ef-e6cb-4c27-b9d5-0347e82cd517",
   "metadata": {},
   "outputs": [],
   "source": [
    "single_family.crs"
   ]
  },
  {
   "cell_type": "markdown",
   "id": "f840faec-bfd5-4da0-bfa7-474b4f4d967c",
   "metadata": {},
   "source": [
    "Now we know the CRS do not match, so we need to choose in which CRS we wish to visualize the data: either the CRS of the tiles, the one of the data, or even a different one.\n",
    "\n",
    "The first option to match CRS is to leverage the `to_crs` method of GeoDataFrames to convert the CRS of our data, here to Web Mercator:"
   ]
  },
  {
   "cell_type": "code",
   "execution_count": null,
   "id": "1a6f58df-c62d-439b-a9d1-60a619ab85ab",
   "metadata": {},
   "outputs": [],
   "source": [
    "single_family_wm = single_family.to_crs(epsg=3857)"
   ]
  },
  {
   "cell_type": "markdown",
   "id": "118b3b4d-d8dd-4dbf-93aa-b60930446d51",
   "metadata": {
    "tags": []
   },
   "source": [
    "We can then use `add_basemap` function of contextily to easily add a background map to our plot:"
   ]
  },
  {
   "cell_type": "markdown",
   "id": "b325ae98-902d-4f77-b113-00ce2fa831a6",
   "metadata": {},
   "source": [
    "ax = single_family_wm.plot(figsize=(10,10), color = 'darkblue')\n",
    "ax.set_title('Single Family Zones in the City of LA', fontsize=15)\n",
    "ax.axis('off')\n",
    "ctx.add_basemap(ax)"
   ]
  },
  {
   "cell_type": "markdown",
   "id": "cfc38386-ebdb-4abc-87c6-5404cd170331",
   "metadata": {},
   "source": [
    "Well that definetly looks like an outline of LA. We can also see that single family zoning is concentrated in some areas an not so much in others. It will be interesting to overlay an outline of LA city boundaries so we can get a better idea of where single family zoning is more prominant than others. \n",
    "\n",
    "Now let's do our single family zone code map. This way we can also geet an idea of where each zone code is most prominant."
   ]
  },
  {
   "cell_type": "code",
   "execution_count": null,
   "id": "6976c2f3-2552-41fe-8a05-d4ad808ab659",
   "metadata": {},
   "outputs": [],
   "source": [
    "ax = single_family_wm.plot(\n",
    "            figsize=(10,10),   \n",
    "            column = 'ZONE_CLASS',  \n",
    "            cmap = 'plasma', alpha = 1, legend = True,           \n",
    "            legend_kwds={\n",
    "               'loc': 'lower left',\n",
    "            }        \n",
    ") \n",
    "ax.axis('off')\n",
    "ax.set_title('Single Family Zones in the City of LA by Zone Code', fontsize=15)\n",
    "ctx.add_basemap(ax)"
   ]
  },
  {
   "cell_type": "markdown",
   "id": "8568b18b-dc17-4617-8aac-525b15333cb3",
   "metadata": {},
   "source": [
    "Okay, so we can clearly see that different zone codes are prominant in different areas. For example, R1 zoning, our traditional single family zoning, is dispersed throughout the city. It also looks like our various RE zones are located in our mountains. This makes sense since RE classifies single family estates zoning and estates in Los Angeles are known to be concentrated in the hills. \n",
    "\n",
    "We also see that although R1 zoning is dispersed throughout the City of LA, RS zoning is mostly found in the north east of the city. This makes sense since RS zoning is known as single family suburban zoning and the north west of the city is the suburbs. However, R1 is still also prominent here. It would be interesting to understand why the city needed to distinguish between R1 and RS zoning. Additionally, it would be interesting to see if there is more or less affordable housing where RS zoning is more prominant than R1 zoning. \n",
    "\n",
    "Although this map is great at summarizing our distribution, it is a little hard to see the smaller zones and zone classes. Thus, we use a function and a loop to map each zone class separately. "
   ]
  },
  {
   "cell_type": "markdown",
   "id": "f797da01-c5a0-489a-b8a8-9ae856d0d094",
   "metadata": {
    "tags": []
   },
   "source": [
    "## 7. Converting original gdf to webmercator"
   ]
  },
  {
   "cell_type": "markdown",
   "id": "b60c1d0e-4345-4c2a-9100-5c70efe0f7e8",
   "metadata": {},
   "source": [
    "We want to run a spatial autocorellation analysis to analyse the concentration of single family zones in Los Angeles. However, before we do that, we should also converty our original gdf to webmerecator. "
   ]
  },
  {
   "cell_type": "code",
   "execution_count": null,
   "id": "aa9bed03-6e1d-41e6-875c-ca917b93f980",
   "metadata": {},
   "outputs": [],
   "source": [
    "gdf.crs\n",
    "gdf_wm = gdf.to_crs(epsg=3857)"
   ]
  },
  {
   "cell_type": "code",
   "execution_count": null,
   "id": "e6644696-3bdc-49dc-85f4-d3cd7d2f8c60",
   "metadata": {},
   "outputs": [],
   "source": [
    "ax = gdf_wm.plot(\n",
    "            figsize=(10,10),   \n",
    "            column = 'ZONE_CLASS',  \n",
    "            cmap = 'magma', alpha = 1, legend = False,           \n",
    "            legend_kwds={\n",
    "               'loc': 'lower left',\n",
    "            }        \n",
    ") \n",
    "ax.axis('off')\n",
    "ax.set_title('City of LA by Zone Code', fontsize=15)\n",
    "ctx.add_basemap(ax)"
   ]
  },
  {
   "cell_type": "markdown",
   "id": "11a3ea0d-a3b2-4e8d-acee-85b3a50d77cd",
   "metadata": {
    "tags": []
   },
   "source": [
    "## 8. Adding the LA Times Neighborhood Overlay\n",
    "\n",
    "Now that our single family data and our original zoning data are compatibl with webmercator, we should add our LA Times Neighborhood overlay so that we have boundaries to run our spatial autocorellation on. We will use the same process we have used for our other data sources."
   ]
  },
  {
   "cell_type": "code",
   "execution_count": null,
   "id": "8fc78942-fd92-46a3-8ea6-e758c19ef7bf",
   "metadata": {},
   "outputs": [],
   "source": [
    "Neighborhood_Boundaries = gpd.read_file('Data/LA_Times_Neighborhood_Boundaries.zip')"
   ]
  },
  {
   "cell_type": "code",
   "execution_count": null,
   "id": "3638ca5e-7a6b-45c2-8df4-911f1d8c4f8f",
   "metadata": {},
   "outputs": [],
   "source": [
    "Neighborhood_Boundaries.info()"
   ]
  },
  {
   "cell_type": "code",
   "execution_count": null,
   "id": "45023be1-18c9-49b0-81a0-a6ecb09aecaa",
   "metadata": {},
   "outputs": [],
   "source": [
    "Neighborhood_Boundaries.sample(5)"
   ]
  },
  {
   "cell_type": "code",
   "execution_count": null,
   "id": "19534a26-225a-4595-8401-0efedda6c8e1",
   "metadata": {},
   "outputs": [],
   "source": [
    "columns_to_keep_2 = ['name',\n",
    "                     'geometry']"
   ]
  },
  {
   "cell_type": "code",
   "execution_count": null,
   "id": "279de06a-8f43-4bb2-bcf9-8d92d02ada81",
   "metadata": {},
   "outputs": [],
   "source": [
    "Neighborhood_Boundaries = Neighborhood_Boundaries[columns_to_keep_2]"
   ]
  },
  {
   "cell_type": "code",
   "execution_count": null,
   "id": "9213d8d6-565f-4eef-9af7-6d5c01d0481c",
   "metadata": {},
   "outputs": [],
   "source": [
    "Neighborhood_Boundaries.sample(5)"
   ]
  },
  {
   "cell_type": "code",
   "execution_count": null,
   "id": "255ac812-91cc-4054-bb13-e56a5b9f4257",
   "metadata": {},
   "outputs": [],
   "source": [
    "Neighborhood_Boundaries.plot()"
   ]
  },
  {
   "cell_type": "code",
   "execution_count": null,
   "id": "a7297ec3-29df-48fd-a6fd-ba7f2c44d28c",
   "metadata": {},
   "outputs": [],
   "source": [
    "Neighborhood_Boundaries = Neighborhood_Boundaries.to_crs(epsg=3857)"
   ]
  },
  {
   "cell_type": "code",
   "execution_count": null,
   "id": "d4e0c7d9-0481-4526-aca8-8eb57a8e3f6e",
   "metadata": {},
   "outputs": [],
   "source": [
    "fig, ax = plt.subplots(figsize=(5,5))\n",
    "\n",
    "Neighborhood_Boundaries.plot(ax=ax,\n",
    "         color='blue', \n",
    "         edgecolor='black',\n",
    "         lw=0.5,\n",
    "         alpha=0.4)\n",
    "\n",
    "ctx.add_basemap(ax,source=ctx.providers.CartoDB.Positron)"
   ]
  },
  {
   "cell_type": "markdown",
   "id": "52fec794-2d13-4a61-b4ec-fdb80fad0727",
   "metadata": {
    "tags": []
   },
   "source": [
    "## 9. Merging Data\n",
    "\n",
    "We then overlayed zoning data on top of the neighborhood dataset"
   ]
  },
  {
   "cell_type": "code",
   "execution_count": null,
   "id": "30f3df57-4c82-4470-9d34-99b3df505441",
   "metadata": {},
   "outputs": [],
   "source": [
    "fig, ax = plt.subplots(figsize=(10, 10))\n",
    "\n",
    "Neighborhood_Boundaries.plot(ax=ax,\n",
    "        color='blue', \n",
    "        edgecolor='black',\n",
    "        alpha=0.3)\n",
    "\n",
    "single_family_wm.plot(ax=ax,\n",
    "            color='green',\n",
    "            markersize=10,\n",
    "            alpha=1)\n",
    "\n",
    "\n",
    "ax.axis('off')\n",
    "\n",
    "ctx.add_basemap(ax,source=ctx.providers.CartoDB.Positron)"
   ]
  },
  {
   "cell_type": "markdown",
   "id": "fc96714e-d828-48c5-a7ec-87c03d2e49bd",
   "metadata": {},
   "source": [
    "Now lets combine our single family data with our neighborhood boundaries."
   ]
  },
  {
   "cell_type": "code",
   "execution_count": null,
   "id": "bc9c2e15-d124-4233-bcf7-3b405973abeb",
   "metadata": {},
   "outputs": [],
   "source": [
    "Combined_Data = gpd.sjoin(single_family_wm, Neighborhood_Boundaries,how='left')\n",
    "\n",
    "Combined_Data.head(3)"
   ]
  },
  {
   "cell_type": "markdown",
   "id": "ee3f65b0-9aee-4b1c-b222-27ffcb8820b5",
   "metadata": {},
   "source": [
    "Now we combine our original total zoning data with our neighborhood boundaries. This will allow us to count the total number of zones in dataset so that we can calculate the percentage of single family zones to total zones in each neighborhood to run our spatial autocorrelation."
   ]
  },
  {
   "cell_type": "code",
   "execution_count": null,
   "id": "84bfba1f-a1f0-479d-8289-90517227cbb6",
   "metadata": {},
   "outputs": [],
   "source": [
    "All_Data = gpd.sjoin(gdf_wm, Neighborhood_Boundaries,how='left')\n",
    "\n",
    "All_Data.head(3)"
   ]
  },
  {
   "cell_type": "markdown",
   "id": "6b1a9da6-cb5b-4b1c-a154-e402d3fc43ee",
   "metadata": {},
   "source": [
    "## 10. Calculating The Proportion of Single Family Zones in Each Neighborhood\n",
    "\n",
    "We then identified which neighborhoods had the highest percentage/proportion of single family zones to total zones.\n",
    "\n",
    "First we count the number of single family zones in each neighborhood. "
   ]
  },
  {
   "cell_type": "code",
   "execution_count": null,
   "id": "6333d832-f166-421f-8506-2a63a4e195ca",
   "metadata": {},
   "outputs": [],
   "source": [
    "Zones_By_Neighborhood = Combined_Data.name.value_counts().rename_axis('name').reset_index(name='single family zones')"
   ]
  },
  {
   "cell_type": "code",
   "execution_count": null,
   "id": "1110d65c-3bb0-42e9-bfb2-c43709645ff2",
   "metadata": {},
   "outputs": [],
   "source": [
    "Zones_By_Neighborhood"
   ]
  },
  {
   "cell_type": "markdown",
   "id": "10fb852e-6c39-4f5c-854c-8532ccc2a269",
   "metadata": {},
   "source": [
    "Up top we see the 5 neighborhoods with the most and least single family zones, but we want to normalize this data. Thus, we will now count the number of total zones in each neighborhood to then calculate the percentages."
   ]
  },
  {
   "cell_type": "code",
   "execution_count": null,
   "id": "cc166d97-1c67-415d-82fc-35c99b7dbd66",
   "metadata": {},
   "outputs": [],
   "source": [
    "Total_By_Neighborhood=All_Data.name.value_counts().rename_axis('name').reset_index(name='total zones')"
   ]
  },
  {
   "cell_type": "code",
   "execution_count": null,
   "id": "87069473-58a8-4f24-b9fa-371a0ddeab5d",
   "metadata": {},
   "outputs": [],
   "source": [
    "Total_By_Neighborhood"
   ]
  },
  {
   "cell_type": "markdown",
   "id": "47bc3f7e-7f79-4df1-b551-36aa96afc2e9",
   "metadata": {},
   "source": [
    "Lets add our counts (both single family and total) to our neighborhood boundaries data."
   ]
  },
  {
   "cell_type": "code",
   "execution_count": null,
   "id": "ed0bc14c-ad46-4aa3-b953-5c3593cfa5dd",
   "metadata": {},
   "outputs": [],
   "source": [
    "Neighborhood_Boundaries=Neighborhood_Boundaries.merge(Zones_By_Neighborhood,on='name')"
   ]
  },
  {
   "cell_type": "code",
   "execution_count": null,
   "id": "58564c57-7a6f-47d5-9579-547a08792d75",
   "metadata": {},
   "outputs": [],
   "source": [
    "Neighborhood_Boundaries.sample(10)"
   ]
  },
  {
   "cell_type": "code",
   "execution_count": null,
   "id": "a0cfa886-28ea-4254-bf33-01a5e962fba4",
   "metadata": {},
   "outputs": [],
   "source": [
    "Neighborhood_Boundaries=Neighborhood_Boundaries.merge(Total_By_Neighborhood,on='name')"
   ]
  },
  {
   "cell_type": "code",
   "execution_count": null,
   "id": "919fe8cb-25a1-4605-bda8-543379b89392",
   "metadata": {},
   "outputs": [],
   "source": [
    "Neighborhood_Boundaries.head(10)"
   ]
  },
  {
   "cell_type": "markdown",
   "id": "f35c3796-2b48-40a8-95ef-995add89acb1",
   "metadata": {},
   "source": [
    "Now let's calculate the percentage of single family zones in each neighborhood by dividing the number of single family zones by total zones and multiplying by 100. "
   ]
  },
  {
   "cell_type": "code",
   "execution_count": null,
   "id": "53104fd8-8658-4a37-81c5-9eb1c3829ec1",
   "metadata": {},
   "outputs": [],
   "source": [
    "Neighborhood_Boundaries['percent_single_family'] = Neighborhood_Boundaries['single family zones']/Neighborhood_Boundaries['total zones']*100\n"
   ]
  },
  {
   "cell_type": "code",
   "execution_count": null,
   "id": "39381274-8d5a-4ded-a55e-0a28395e30d4",
   "metadata": {},
   "outputs": [],
   "source": [
    "Neighborhood_Boundaries.sort_values(by=\"percent_single_family\").tail()"
   ]
  },
  {
   "cell_type": "code",
   "execution_count": null,
   "id": "8b24a4c7-5608-48e5-a12d-968cc02db935",
   "metadata": {},
   "outputs": [],
   "source": [
    "Neighborhood_Boundaries.round(2)"
   ]
  },
  {
   "cell_type": "code",
   "execution_count": null,
   "id": "c35536b8-3bb1-4a81-997b-262b0d3b7b6f",
   "metadata": {},
   "outputs": [],
   "source": [
    "Neighborhood_Boundaries.round(2)\n",
    "Neighborhood_Boundaries = Neighborhood_Boundaries.round(2)"
   ]
  },
  {
   "cell_type": "markdown",
   "id": "5dacc3b5-88c2-4b53-b76a-76f74012e29e",
   "metadata": {},
   "source": [
    "## 11. Mapping our Normalized Data\n",
    "\n",
    "I then mapped the 20 neighborhoods with the most single family zones and the 20 neighborhoods with the least."
   ]
  },
  {
   "cell_type": "code",
   "execution_count": null,
   "id": "bb1ffb36-39dd-4036-a032-a40e783a8c34",
   "metadata": {},
   "outputs": [],
   "source": [
    "fig,ax = plt.subplots(figsize=(12,10))\n",
    "Neighborhood_Boundaries.sort_values(by='percent_single_family',ascending=False)[:20].plot(ax=ax,\n",
    "                                                                 color='green',\n",
    "                                                                 edgecolor='white',\n",
    "                                                                 alpha=0.5,legend=True)\n",
    "\n",
    "\n",
    "# title\n",
    "ax.set_title('20 Neighborhoods With the Highest Percentage of Single Family Zones')\n",
    "\n",
    "# no axis\n",
    "ax.axis('off')\n",
    "\n",
    "# add a basemap\n",
    "ctx.add_basemap(ax,source=ctx.providers.CartoDB.Positron)"
   ]
  },
  {
   "cell_type": "code",
   "execution_count": null,
   "id": "78823710-c115-4442-967c-83dd3c688da9",
   "metadata": {},
   "outputs": [],
   "source": [
    "fig,ax = plt.subplots(figsize=(12,10))\n",
    "Neighborhood_Boundaries.sort_values(by='percent_single_family',ascending=True)[:20].plot(ax=ax,\n",
    "                                                                 color='red',\n",
    "                                                                 edgecolor='white',\n",
    "                                                                 alpha=0.5,legend=True)\n",
    "\n",
    "\n",
    "# title\n",
    "ax.set_title('20 Neighborhoods With the Lowest Percentage of Single Family Zones')\n",
    "\n",
    "# no axis\n",
    "ax.axis('off')\n",
    "\n",
    "# add a basemap\n",
    "ctx.add_basemap(ax,source=ctx.providers.CartoDB.Positron)"
   ]
  },
  {
   "cell_type": "code",
   "execution_count": null,
   "id": "9b5f08fc-2dbc-46f6-8f63-480f7c6e55b9",
   "metadata": {},
   "outputs": [],
   "source": [
    "fig, axs = plt.subplots(1, 2, figsize=(15, 10), sharey=True, sharex=True,)\n",
    "ax1, ax2, = axs\n",
    "\n",
    "Neighborhood_Boundaries.sort_values(by='percent_single_family',ascending=False)[:20].plot(ax=ax1,\n",
    "                                                                 color='green',\n",
    "                                                                 edgecolor='white',\n",
    "                                                                 alpha=0.5,legend=True)\n",
    "ax1.axis('off')\n",
    "ax1.set_title('20 Neighborhoods With the Highest Percentage of Single Family Zones', fontsize=10)\n",
    "ctx.add_basemap(ax1)\n",
    "\n",
    "Neighborhood_Boundaries.sort_values(by='percent_single_family',ascending=True)[:20].plot(ax=ax2,\n",
    "                                                                 color='red',\n",
    "                                                                 edgecolor='white',\n",
    "                                                                 alpha=0.5,legend=True)\n",
    "ax2.axis('off')\n",
    "ax2.set_title('20 Neighborhoods With the Lowest Percentage of Single Family Zones', fontsize=10)\n",
    "ctx.add_basemap(ax2)\n",
    "\n"
   ]
  },
  {
   "cell_type": "code",
   "execution_count": null,
   "id": "ebf145cb-dea2-41b9-bb7a-bf50649914ca",
   "metadata": {},
   "outputs": [],
   "source": []
  },
  {
   "cell_type": "code",
   "execution_count": null,
   "id": "d7fddf99-8c3d-4074-bdbb-aea74c30fd69",
   "metadata": {},
   "outputs": [],
   "source": []
  },
  {
   "cell_type": "markdown",
   "id": "7eed0d4e-edca-4aa7-b8e8-9b71765fab81",
   "metadata": {
    "tags": []
   },
   "source": [
    "We made a chloropleth map to show the relationship that neighborhoods with the largest and smallest percentages of single family zones."
   ]
  },
  {
   "cell_type": "code",
   "execution_count": null,
   "id": "c8c2b319-284c-4f7f-8128-1f1bb2c63da0",
   "metadata": {},
   "outputs": [],
   "source": [
    "fig,ax = plt.subplots(figsize=(15,15))\n",
    "\n",
    "Neighborhood_Boundaries.plot(ax=ax,\n",
    "        column='percent_single_family',\n",
    "        legend=True,\n",
    "        alpha=0.8,\n",
    "        cmap='plasma',\n",
    "        scheme='natural_breaks')\n",
    "\n",
    "ax.axis('off')\n",
    "ax.set_title('Concentration of Single Family Zones in LA Neighborhoods',fontsize=22)\n",
    "ctx.add_basemap(ax,source=ctx.providers.CartoDB.Positron)"
   ]
  },
  {
   "cell_type": "markdown",
   "id": "6bed3259-a861-4e7d-a789-5bcb9d86cad5",
   "metadata": {},
   "source": [
    "As expected we see the highest number of single family zones in suburban LA and the lowest number of single family zones in urban LA. For the final, we will overlay this data with affordability indicators. "
   ]
  },
  {
   "cell_type": "markdown",
   "id": "5c9a4537-92f3-494a-acd8-74f5428ba107",
   "metadata": {},
   "source": [
    "## 12. Global Spacial Autocorrelation\n",
    "\n",
    "Now that we have combined all our data and found our normalized proportions, we can run our global spacial autocrrelation analysis. Let's add our spatial weights and caluculate our spatial lags."
   ]
  },
  {
   "cell_type": "code",
   "execution_count": null,
   "id": "4c86b21b-d050-47fb-86da-ff6db9f80a2c",
   "metadata": {
    "slideshow": {
     "slide_type": "slide"
    },
    "tags": []
   },
   "outputs": [],
   "source": [
    "# calculate spatial weight\n",
    "wq =  lps.weights.KNN.from_dataframe(Neighborhood_Boundaries,k=8)\n",
    "\n",
    "# Row-standardization\n",
    "wq.transform = 'r'"
   ]
  },
  {
   "cell_type": "markdown",
   "id": "86d1901e-b2a9-47d2-9267-245927bcbdff",
   "metadata": {},
   "source": [
    "### Spatial Lag"
   ]
  },
  {
   "cell_type": "code",
   "execution_count": null,
   "id": "66e6d534-25d2-4ba3-a73a-ac5f84d0b40f",
   "metadata": {},
   "outputs": [],
   "source": [
    "# create a new column for the spatial lag\n",
    "Neighborhood_Boundaries['percent_single_family_lag'] = lps.weights.lag_spatial(wq, Neighborhood_Boundaries['percent_single_family'])"
   ]
  },
  {
   "cell_type": "code",
   "execution_count": null,
   "id": "713f4e62-3bc0-4af1-94ef-17cbb6165d9e",
   "metadata": {},
   "outputs": [],
   "source": [
    "Neighborhood_Boundaries.sample(10)"
   ]
  },
  {
   "cell_type": "markdown",
   "id": "3b3cd556-7de9-425c-b3b5-58097a57b57c",
   "metadata": {},
   "source": [
    "The spatial lag is a \"a calculated assignment to each geography in your data, which takes into account the data values from others in their  \"neighborhood\" as defined by the spatial weight.\""
   ]
  },
  {
   "cell_type": "markdown",
   "id": "9fe2ade1-350f-4ae2-a09e-948e3a214982",
   "metadata": {
    "slideshow": {
     "slide_type": "slide"
    }
   },
   "source": [
    "### The donut and the diamond"
   ]
  },
  {
   "cell_type": "code",
   "execution_count": null,
   "id": "a468ddc3-ffb8-4c3d-90cb-c2264137f4e4",
   "metadata": {},
   "outputs": [],
   "source": [
    "# a column that calculates the difference betwen single family zones and lag\n",
    "Neighborhood_Boundaries['single_family_diff'] = Neighborhood_Boundaries['percent_single_family'] - Neighborhood_Boundaries['percent_single_family_lag']"
   ]
  },
  {
   "cell_type": "code",
   "execution_count": null,
   "id": "6bb21174-133d-48a0-a29d-930042ffc8ba",
   "metadata": {},
   "outputs": [],
   "source": [
    "Neighborhood_Boundaries.sort_values(by='single_family_diff')"
   ]
  },
  {
   "cell_type": "code",
   "execution_count": null,
   "id": "f494a1bb-3f99-490b-b820-71f39742704d",
   "metadata": {},
   "outputs": [],
   "source": [
    "# the neighborhood with highest negative difference\n",
    "gdf_donut = Neighborhood_Boundaries.sort_values(by='single_family_diff').head(1)\n",
    "gdf_donut"
   ]
  },
  {
   "cell_type": "markdown",
   "id": "46486821-431a-4b5c-94d7-6a4f9180985c",
   "metadata": {},
   "source": [
    "Our Donut is Hollywood. This means that Hollywood has a low percentage of single family zones but is surrounded by neighborhoods with a high percentage of single family zones. This makes a lot of sense. Hollywood is generally a tourist neighborhood with a lot of commercial and industrial buildings. When you drive through Hollywood you mostly see multifamily homes. However, Hollywood is also adjacent to neighborhoods inn the Hollywood Hills that are almost completely single family zones and Hancock Park which is clustered with large single family mansions."
   ]
  },
  {
   "cell_type": "code",
   "execution_count": null,
   "id": "e4e29400-53e5-4e70-a2aa-185b26a6a770",
   "metadata": {},
   "outputs": [],
   "source": [
    "# the neighborhood with highest positive difference\n",
    "gdf_diamond = Neighborhood_Boundaries.sort_values(by='single_family_diff').tail(1)\n",
    "gdf_diamond"
   ]
  },
  {
   "cell_type": "markdown",
   "id": "3fd3c758-4f54-4fa9-abac-b59989aa8723",
   "metadata": {},
   "source": [
    "Our Diamond is Mount Washington which means Mount Washington has a high concentration of single family zones but is surrounded by neighborhoods with a low concentration of single family zones. This also makes sense given the history and location of redlining in Los Angeles. As a quick summary of it all, during redlining in the 30s and 40s Mount Washington was considered the sole \"desirable\" neighborhood surrounded by many \"undersirable\" (yellow) and \"hazardous\" (red) neighborhoods such as Lincoln Heights and Montecito Heights. Historically, redlined neighoborhoods remained urban with very few single family zones and homes while desirable neighborhoods (like Mount Washington) were suburban with a high concentration of single family zones. Our data is literally showing us the legacy redlining still has on the city nearly 80 years later. \n",
    "\n",
    "We also went ahead and mapped our donut (in red) and diamond (in green) below."
   ]
  },
  {
   "cell_type": "code",
   "execution_count": null,
   "id": "737bc0ec-5a5e-41c1-8dd4-0c364a560308",
   "metadata": {},
   "outputs": [],
   "source": [
    "fig, ax = plt.subplots(figsize=(10, 10))\n",
    "\n",
    "Neighborhood_Boundaries.plot(ax=ax,\n",
    "        color='blue', \n",
    "        edgecolor='black',\n",
    "        alpha=0.3)\n",
    "\n",
    "gdf_diamond.plot(ax=ax,\n",
    "         color='green', \n",
    "         edgecolor='black',\n",
    "         lw=0.5,\n",
    "         alpha=0.8)\n",
    "\n",
    "gdf_donut.plot(ax=ax,\n",
    "         color='red', \n",
    "         edgecolor='black',\n",
    "         lw=0.5,\n",
    "         alpha=0.8)\n",
    "\n",
    "ax.axis('off')\n",
    "\n",
    "ctx.add_basemap(ax,source=ctx.providers.CartoDB.Positron)"
   ]
  },
  {
   "cell_type": "markdown",
   "id": "a0f0d517-0b7b-4a0d-9987-d37f40f0e21b",
   "metadata": {},
   "source": [
    "### Morans Plot\n",
    "\n",
    "Now we use a Morans Plot to quantify the degree of spatial correlations of single family homes and neighborhoods. To begin this process, we test for global autocorrelation for a continuous attribute (single family zones)."
   ]
  },
  {
   "cell_type": "code",
   "execution_count": null,
   "id": "a4d572a0-a505-421d-900c-a508b5f53ca8",
   "metadata": {},
   "outputs": [],
   "source": [
    "y = Neighborhood_Boundaries.percent_single_family\n",
    "moran = Moran(y, wq)\n",
    "moran.I"
   ]
  },
  {
   "cell_type": "markdown",
   "id": "45b86d70-bffb-4218-829b-4afeb7dbcc95",
   "metadata": {},
   "source": [
    "Our Moron value is roughly .13. This really only tells us the slope of our Moran scatterplot (pictured below). However, a positive slope tells us there is a positive correlation. To truly understand whether or not the location of single family zones is radomized, we need the p-value. Which we find using the next 3 codes."
   ]
  },
  {
   "cell_type": "code",
   "execution_count": null,
   "id": "2742bc41-fb38-4504-9de6-b5c48ecc01a0",
   "metadata": {},
   "outputs": [],
   "source": [
    "fig, ax = moran_scatterplot(moran, aspect_equal=True)\n",
    "plt.show()"
   ]
  },
  {
   "cell_type": "code",
   "execution_count": null,
   "id": "bab95913-3a18-44b8-9012-77aa463137c0",
   "metadata": {},
   "outputs": [],
   "source": [
    "plot_moran_simulation(moran,aspect_equal=False)"
   ]
  },
  {
   "cell_type": "markdown",
   "id": "7a649f50-d979-4371-bde7-695416887673",
   "metadata": {},
   "source": [
    "Now let's calculate our p-value! "
   ]
  },
  {
   "cell_type": "code",
   "execution_count": null,
   "id": "63e01973-033e-4df2-9b9e-3390e52fec68",
   "metadata": {},
   "outputs": [],
   "source": [
    "moran.p_sim"
   ]
  },
  {
   "cell_type": "markdown",
   "id": "61c1f99e-63e7-4200-8e86-2b773bd76be3",
   "metadata": {},
   "source": [
    "A p-value of 0.006 is extremely low. In simplified terms a p-value this low allows us to reject the notion (null hypothesis) that the location of single family zoning througout LA is random.\n",
    "\n",
    "In more complicated terms:\n",
    "The value is calculated as an empirical P-value that represents the proportion of realisations in the simulation under spatial randomness that are more extreme than the observed value. A small enough p-value associated with the Moran’s I of a map allows to reject the hypothesis that the map is random. In other words, we can conclude that the map displays more spatial pattern than we would expect if the values had been randomly allocated to a locations.\n",
    "\n",
    "If we generated a large number of maps with the same values but randomly allocated over space, and calculated the Moran’s I statistic for each of those maps, only 0.6% of them would display a larger (absolute) value than the one we obtain from the observed data, and the other 99.4% of the random maps would receive a smaller (absolute) value of Moran’s I. "
   ]
  },
  {
   "cell_type": "markdown",
   "id": "09166a29-1c92-4397-863e-cae67139e7e0",
   "metadata": {},
   "source": [
    "### 13. Local Spatial Autocorrelation\n",
    "\n",
    "So far, we have only determined that there is a positive spatial autocorrelation between the concentration of single family zones in LA city and their locations. But we have not detected where clusters are. Local Indicators of Spatial Association (LISA) is used to do that. LISA classifies areas into four groups: high values near to high values (HH), Low values with nearby low values (LL), Low values with high values in its neighborhood, and vice-versa.\n",
    "\n",
    "- HH: high single family zone concentration near other high single family zone concentration\n",
    "- LL: low single family zone concentrationnear other low single family zone concentration\n",
    "- LH (donuts): low single family zone concentration surrounded by high single family zone concentration\n",
    "- HL (diamonds): high single family zone concentration surrounded by single family zone concentration"
   ]
  },
  {
   "cell_type": "code",
   "execution_count": null,
   "id": "c1454988-5d0e-46c3-8b82-cc57cfcb263c",
   "metadata": {},
   "outputs": [],
   "source": [
    "# calculate local moran values\n",
    "lisa = esda.moran.Moran_Local(y, wq)"
   ]
  },
  {
   "cell_type": "code",
   "execution_count": null,
   "id": "f67162fb-e84b-4aa6-bd22-a22dffd37d04",
   "metadata": {},
   "outputs": [],
   "source": [
    "# Plot\n",
    "fig,ax = plt.subplots(figsize=(15,15))\n",
    "moran_scatterplot(lisa, ax=ax, p=0.05)\n",
    "ax.set_xlabel(\"Percent of Single Family Zones\")\n",
    "ax.set_ylabel('Spatial Lag of Percent of Single Family Zones')\n",
    "\n",
    "# add some labels\n",
    "plt.text(1.95, 0.5, \"HH\", fontsize=15)\n",
    "plt.text(1.95, -1.05, \"HL\", fontsize=15)\n",
    "plt.text(-2, 0.5, \"LH\", fontsize=15)\n",
    "plt.text(-2, -1.05, \"LL\", fontsize=15)\n",
    "plt.show()"
   ]
  },
  {
   "cell_type": "markdown",
   "id": "ff467721-1b20-4a34-ab65-d2f8d0d091ea",
   "metadata": {},
   "source": [
    "In the scatterplot above, the colored dots represents the rows (neighborhoods) that have a P-value less that 0.05 in each quadrant. In other words, these are the statisticaly significantly, spatially autocorrelated geographies."
   ]
  },
  {
   "cell_type": "markdown",
   "id": "045004cd-4a1e-4a49-8646-20d387da4903",
   "metadata": {},
   "source": [
    "### Spatial Autocorrelation Map\n",
    "Finally, you can visually these statistically significant clusters using the `lisa_cluster` function:"
   ]
  },
  {
   "cell_type": "code",
   "execution_count": null,
   "id": "5961af49-143c-4b87-ab0b-960a8e716561",
   "metadata": {},
   "outputs": [],
   "source": [
    "fig, ax = plt.subplots(figsize=(14,12))\n",
    "lisa_cluster(lisa, Neighborhood_Boundaries, p=0.05, ax=ax)\n",
    "plt.show()"
   ]
  },
  {
   "cell_type": "markdown",
   "id": "d71bc2ef-b1b6-4dcd-9035-e6bdd0f47e80",
   "metadata": {},
   "source": [
    "Our HH (high near high) is in the mountains (known for single family zoning) and our LL is clustured near urban Downtown LA and where historically redlined. "
   ]
  },
  {
   "cell_type": "markdown",
   "id": "dd145651-565d-4cde-8b23-f91fe507e2c5",
   "metadata": {},
   "source": [
    "And create a map comparing different p-values"
   ]
  },
  {
   "cell_type": "code",
   "execution_count": null,
   "id": "255d6c59-7d77-4591-a936-c5898c79f5d2",
   "metadata": {},
   "outputs": [],
   "source": [
    "# create the 1x2 subplots\n",
    "fig, ax = plt.subplots(1, 2, figsize=(20, 20))\n",
    "\n",
    "# regular count map on the left\n",
    "lisa_cluster(lisa, Neighborhood_Boundaries, p=0.05, ax=ax[0])\n",
    "\n",
    "ax[0].axis(\"off\")\n",
    "ax[0].set_title(\"P-value: 0.05\")\n",
    "\n",
    "# spatial lag map on the right\n",
    "lisa_cluster(lisa, Neighborhood_Boundaries, p=0.01, ax=ax[1])\n",
    "ax[1].axis(\"off\")\n",
    "ax[1].set_title(\"P-value: 0.01\")\n",
    "\n",
    "plt.show()"
   ]
  },
  {
   "cell_type": "markdown",
   "id": "beb0022e-ff13-446e-95b4-e55a3d72f1d2",
   "metadata": {},
   "source": [
    "## Plotly"
   ]
  },
  {
   "cell_type": "code",
   "execution_count": null,
   "id": "0290197c-71f6-42d0-a072-02ece3bab895",
   "metadata": {},
   "outputs": [],
   "source": [
    "token = 'pk.eyJ1IjoieW9obWFuIiwiYSI6IkxuRThfNFkifQ.u2xRJMiChx914U7mOZMiZw'\n",
    "px.set_mapbox_access_token(token)"
   ]
  },
  {
   "cell_type": "code",
   "execution_count": null,
   "id": "e4585a51-59d2-4dd6-98d9-fdb71b320fa9",
   "metadata": {},
   "outputs": [],
   "source": [
    "Neighborhood_Boundaries = Neighborhood_Boundaries.to_crs('epsg:4326')"
   ]
  },
  {
   "cell_type": "code",
   "execution_count": null,
   "id": "9c4affd9-dd7d-4c88-ac23-27468cc439e6",
   "metadata": {},
   "outputs": [],
   "source": [
    "fig = px.choropleth_mapbox(Neighborhood_Boundaries,\n",
    "                   geojson=Neighborhood_Boundaries.geometry,\n",
    "                   locations=Neighborhood_Boundaries.index,\n",
    "                   color=\"single family zones\",\n",
    "                     mapbox_style=\"satellite-streets\",\n",
    "                    hover_data=['name','single family zones','percent_single_family'],\n",
    "                    center = {\"lat\": 34.02, \"lon\": -118.37},\n",
    "                          height=500,\n",
    "                          title= 'Concentration of Single Family Zones in LA Neighborhoods')\n",
    "fig.update_geos(fitbounds=\"locations\", visible=False)\n",
    "fig.show()"
   ]
  },
  {
   "cell_type": "code",
   "execution_count": null,
   "id": "c227966e-26d3-4461-b1bf-ddb5aaf54641",
   "metadata": {},
   "outputs": [],
   "source": [
    "fig.write_html(\"percentage_single_plotly.html\")"
   ]
  }
 ],
 "metadata": {
  "kernelspec": {
   "display_name": "Python 3 (ipykernel)",
   "language": "python",
   "name": "python3"
  },
  "language_info": {
   "codemirror_mode": {
    "name": "ipython",
    "version": 3
   },
   "file_extension": ".py",
   "mimetype": "text/x-python",
   "name": "python",
   "nbconvert_exporter": "python",
   "pygments_lexer": "ipython3",
   "version": "3.9.6"
  }
 },
 "nbformat": 4,
 "nbformat_minor": 5
}
